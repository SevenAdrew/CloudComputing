{
 "cells": [
  {
   "cell_type": "code",
   "execution_count": 6,
   "id": "90368fe9-1b14-4e0e-9d0c-fab06ee13cab",
   "metadata": {
    "tags": []
   },
   "outputs": [
    {
     "name": "stdout",
     "output_type": "stream",
     "text": [
      "文件夹中的文件数目为: 172\n"
     ]
    }
   ],
   "source": [
    "#文件计数\n",
    "import os\n",
    "\n",
    "def count_files_in_folder(folder_path):\n",
    "    # 初始化文件计数器\n",
    "    file_count = 0\n",
    "\n",
    "    # 遍历文件夹中的所有文件\n",
    "    for _, _, files in os.walk(folder_path):\n",
    "        file_count += len(files)\n",
    "\n",
    "    return file_count\n",
    "\n",
    "# 指定要计算文件数的文件夹路径\n",
    "folder_path = './IMG1/val/'\n",
    "\n",
    "# 调用函数计算文件夹中文件的数量\n",
    "num_files = count_files_in_folder(folder_path)\n",
    "\n",
    "print(f\"文件夹中的文件数目为: {num_files}\")"
   ]
  },
  {
   "cell_type": "code",
   "execution_count": 47,
   "id": "0acc5c70-0b19-4b27-8794-0b549329716d",
   "metadata": {
    "tags": []
   },
   "outputs": [
    {
     "name": "stdout",
     "output_type": "stream",
     "text": [
      "ok\n"
     ]
    }
   ],
   "source": [
    "#划分小猪数据集\n",
    "import os\n",
    "import random\n",
    "import shutil\n",
    "\n",
    "# 指定原始图片文件夹路径和训练集、测试集文件夹路径\n",
    "original_folder = \"./IMG1/subimg/unknow/\"\n",
    "train_folder = \"./IMGforAblation/train/unknow\"\n",
    "test_folder = \"./IMGforAblation/val/unknow\"\n",
    "\n",
    "# 创建训练集和测试集文件夹\n",
    "os.makedirs(train_folder, exist_ok=True)\n",
    "os.makedirs(test_folder, exist_ok=True)\n",
    "\n",
    "# 获取所有图片文件\n",
    "image_files = [f for f in os.listdir(original_folder) if f.endswith(('.jpg', '.jpeg', '.png'))]\n",
    "\n",
    "# 打乱图片文件顺序\n",
    "random.shuffle(image_files)\n",
    "\n",
    "# 计算训练集和测试集的分割点\n",
    "split_index = int(0.8 * len(image_files))  # 80% 训练集，20% 测试集\n",
    "\n",
    "# 分割图片文件\n",
    "train_files = image_files[:split_index]\n",
    "test_files = image_files[split_index:]\n",
    "\n",
    "# 复制训练集图片到训练集文件夹\n",
    "for file in train_files:\n",
    "    src = os.path.join(original_folder, file)\n",
    "    dst = os.path.join(train_folder, file)\n",
    "    shutil.copy(src, dst)\n",
    "\n",
    "# 复制测试集图片到测试集文件夹\n",
    "for file in test_files:\n",
    "    src = os.path.join(original_folder, file)\n",
    "    dst = os.path.join(test_folder, file)\n",
    "    shutil.copy(src, dst)\n",
    "print(\"ok\")"
   ]
  },
  {
   "cell_type": "code",
   "execution_count": 33,
   "id": "22ca0b70-e0cf-43a2-97da-157f08564a28",
   "metadata": {
    "tags": []
   },
   "outputs": [
    {
     "name": "stdout",
     "output_type": "stream",
     "text": [
      "ok\n"
     ]
    }
   ],
   "source": [
    "import os\n",
    "import shutil\n",
    "\n",
    "# 指定原始图片文件夹路径和目标文件夹路径\n",
    "original_folder = \"./ColorMNIST/\"\n",
    "folder_1 = \"./IMG1/train/piglet_B0/\"\n",
    "folder_2 = \"./IMG1/train/piglet_B1/\"\n",
    "folder_3 = \"./IMG1/train/piglet_B2/\"\n",
    "folder_4 = \"./IMG1/train/piglet_B3/\"\n",
    "folder_5 = \"./IMG1/train/piglet_G0/\"\n",
    "folder_6 = \"./IMG1/train/piglet_G1/\"\n",
    "folder_7 = \"./IMG1/train/piglet_G2/\"\n",
    "folder_8 = \"./IMG1/train/piglet_G3/\"\n",
    "folder_9 = \"./IMG1/train/piglet_R0/\"\n",
    "folder_10 = \"./IMG1/train/piglet_R1/\"\n",
    "folder_11 = \"./IMG1/train/piglet_R3/\"\n",
    "\n",
    "\n",
    "# 获取所有图片文件\n",
    "image_files = [f for f in os.listdir(original_folder) if f.endswith(('.jpg', '.jpeg', '.png'))]\n",
    "\n",
    "# 移动文件到目标文件夹\n",
    "for file in image_files:\n",
    "    if file.startswith(\"B0\"):\n",
    "        src = os.path.join(original_folder, file)\n",
    "        dst = os.path.join(folder_1, file)\n",
    "        shutil.move(src, dst)\n",
    "    elif file.startswith(\"B1\"):\n",
    "        src = os.path.join(original_folder, file)\n",
    "        dst = os.path.join(folder_2, file)\n",
    "        shutil.move(src, dst)\n",
    "    elif file.startswith(\"B2\"):\n",
    "        src = os.path.join(original_folder, file)\n",
    "        dst = os.path.join(folder_3, file)\n",
    "        shutil.move(src, dst)\n",
    "    elif file.startswith(\"B3\"):\n",
    "        src = os.path.join(original_folder, file)\n",
    "        dst = os.path.join(folder_4, file)\n",
    "        shutil.move(src, dst)\n",
    "    # elif file.startswith(\"G0\"):\n",
    "    #     src = os.path.join(original_folder, file)\n",
    "    #     dst = os.path.join(folder_5, file)\n",
    "    #     shutil.move(src, dst)\n",
    "    # elif file.startswith(\"G1\"):\n",
    "    #     src = os.path.join(original_folder, file)\n",
    "    #     dst = os.path.join(folder_6, file)\n",
    "    #     shutil.move(src, dst)\n",
    "    # elif file.startswith(\"G2\"):\n",
    "    #     src = os.path.join(original_folder, file)\n",
    "    #     dst = os.path.join(folder_7, file)\n",
    "    #     shutil.move(src, dst)\n",
    "    # elif file.startswith(\"G3\"):\n",
    "    #     src = os.path.join(original_folder, file)\n",
    "    #     dst = os.path.join(folder_8, file)\n",
    "    #     shutil.move(src, dst)\n",
    "    # elif file.startswith(\"R0\"):\n",
    "    #     src = os.path.join(original_folder, file)\n",
    "    #     dst = os.path.join(folder_9, file)\n",
    "    #     shutil.move(src, dst)\n",
    "    # elif file.startswith(\"R1\"):\n",
    "    #     src = os.path.join(original_folder, file)\n",
    "    #     dst = os.path.join(folder_10, file)\n",
    "    #     shutil.move(src, dst)\n",
    "    # elif file.startswith(\"R3\"):\n",
    "    #     src = os.path.join(original_folder, file)\n",
    "    #     dst = os.path.join(folder_11, file)\n",
    "    #     shutil.move(src, dst)\n",
    "print(\"ok\")\n"
   ]
  },
  {
   "cell_type": "code",
   "execution_count": 48,
   "id": "7ff785a1-75ce-4252-acf9-02868385e778",
   "metadata": {
    "tags": []
   },
   "outputs": [
    {
     "name": "stdout",
     "output_type": "stream",
     "text": [
      "ok\n"
     ]
    }
   ],
   "source": [
    "from PIL import Image\n",
    "import os\n",
    "\n",
    "def resize_images_in_folders(input_folder, output_folder, target_size=(128, 128)):\n",
    "    # 创建目标文件夹\n",
    "    os.makedirs(output_folder, exist_ok=True)\n",
    "\n",
    "    # 获取文件夹中所有子文件夹\n",
    "    subfolders = [f.path for f in os.scandir(input_folder) if f.is_dir()]\n",
    "\n",
    "    # 遍历每个子文件夹\n",
    "    for subfolder in subfolders:\n",
    "        subfolder_name = os.path.basename(subfolder)\n",
    "        output_subfolder = os.path.join(output_folder, subfolder_name)\n",
    "        os.makedirs(output_subfolder, exist_ok=True)\n",
    "\n",
    "        # 获取子文件夹中所有图片文件\n",
    "        image_files = [f for f in os.listdir(subfolder) if f.endswith(('.jpg', '.jpeg', '.png'))]\n",
    "\n",
    "        # 遍历每个图片文件并resize\n",
    "        for file_name in image_files:\n",
    "            file_path = os.path.join(subfolder, file_name)\n",
    "            img = Image.open(file_path)\n",
    "            \n",
    "            # 调整图片大小\n",
    "            img_resized = img.resize(target_size)\n",
    "            \n",
    "            # 保存调整大小后的图片\n",
    "            output_file_path = os.path.join(output_subfolder, \"resized_\" + file_name)\n",
    "            img_resized.save(output_file_path)\n",
    "\n",
    "# 处理train文件夹\n",
    "input_folder_train = \"./IMGforAblation/train/\"\n",
    "output_folder_train = \"./IMGforAblation_revised/train\"\n",
    "resize_images_in_folders(input_folder_train, output_folder_train)\n",
    "\n",
    "# 处理val文件夹\n",
    "input_folder_val = \"./IMGforAblation/val/\"\n",
    "output_folder_val = \"./IMGforAblation_revised/val/\"\n",
    "resize_images_in_folders(input_folder_val, output_folder_val)\n",
    "print(\"ok\")"
   ]
  },
  {
   "cell_type": "code",
   "execution_count": 32,
   "id": "d55e3ef5-a0f5-4a82-a49e-9a2cbc2bc20b",
   "metadata": {
    "tags": []
   },
   "outputs": [
    {
     "name": "stdout",
     "output_type": "stream",
     "text": [
      "yes\n"
     ]
    }
   ],
   "source": [
    "import os\n",
    "\n",
    "def delete_files_with_b0(input_folder):\n",
    "    # 获取文件夹中所有文件\n",
    "    files = os.listdir(input_folder)\n",
    "\n",
    "    # 遍历每个文件\n",
    "    for file_name in files:\n",
    "        if 'B3' in file_name:\n",
    "            file_path = os.path.join(input_folder, file_name)\n",
    "            os.remove(file_path)\n",
    "\n",
    "# 删除包含\"B0\"的文件\n",
    "input_folder = \"./IMG1/train/piglet_B3/\"\n",
    "delete_files_with_b0(input_folder)\n",
    "print(\"yes\")"
   ]
  },
  {
   "cell_type": "code",
   "execution_count": null,
   "id": "387914bb-90ce-45e4-af85-089c969e0606",
   "metadata": {},
   "outputs": [],
   "source": []
  }
 ],
 "metadata": {
  "kernelspec": {
   "display_name": "pytorch-revised",
   "language": "python",
   "name": "pytorch-revised"
  },
  "language_info": {
   "codemirror_mode": {
    "name": "ipython",
    "version": 3
   },
   "file_extension": ".py",
   "mimetype": "text/x-python",
   "name": "python",
   "nbconvert_exporter": "python",
   "pygments_lexer": "ipython3",
   "version": "3.9.18"
  }
 },
 "nbformat": 4,
 "nbformat_minor": 5
}
